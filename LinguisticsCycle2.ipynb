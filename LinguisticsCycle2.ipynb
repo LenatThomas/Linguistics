{
  "nbformat": 4,
  "nbformat_minor": 0,
  "metadata": {
    "colab": {
      "provenance": []
    },
    "kernelspec": {
      "name": "python3",
      "display_name": "Python 3"
    },
    "language_info": {
      "name": "python"
    }
  },
  "cells": [
    {
      "cell_type": "code",
      "source": [
        "import re\n",
        "import collections\n",
        "from itertools import product\n",
        "from typing import List, Tuple, Dict"
      ],
      "metadata": {
        "id": "KEd-R4KQ96GS"
      },
      "execution_count": null,
      "outputs": []
    },
    {
      "cell_type": "code",
      "execution_count": null,
      "metadata": {
        "colab": {
          "base_uri": "https://localhost:8080/"
        },
        "id": "tOdS-VZ79n_2",
        "outputId": "de9b6ab0-be71-4be6-a2ca-510ea0ada76c"
      },
      "outputs": [
        {
          "output_type": "stream",
          "name": "stdout",
          "text": [
            "['the', 'qick', 'bron', 'foxe', 'jump', 'over', 'the', 'lazi', 'dog']\n",
            "Corrected Text: the quick brown fox jumps over the lazy dog\n"
          ]
        }
      ],
      "source": [
        "import re\n",
        "import collections\n",
        "from typing import List, Tuple, Dict\n",
        "\n",
        "class SpellChecker:\n",
        "    def __init__(self, corpus: str):\n",
        "        self.vocabulary       = set()\n",
        "        self.bigramFrequency  = {}\n",
        "        self.unigramFrequency = {}\n",
        "        self._buildLanguageModel(corpus)\n",
        "\n",
        "    def _buildLanguageModel(self, corpus: str):\n",
        "        words                 = re.findall(r'\\b\\w+\\b', corpus.lower())\n",
        "        self.vocabulary       = set(words)\n",
        "        self.unigramFrequency = collections.Counter(words)\n",
        "        bigrams               = zip(words, words[1:])\n",
        "        self.bigramFrequency  = collections.Counter(bigrams)\n",
        "\n",
        "    def _edits1(self, word: str) -> set:\n",
        "        letters     = 'abcdefghijklmnopqrstuvwxyz'\n",
        "        splits      = [(word[:i], word[i:]) for i in range(len(word) + 1)]\n",
        "        deletes     = [L + R[1:] for L, R in splits if R]\n",
        "        transposes  = [L + R[1] + R[0] + R[2:] for L, R in splits if len(R) > 1]\n",
        "        replaces    = [L + c + R[1:] for L, R in splits if R for c in letters]\n",
        "        inserts     = [L + c + R for L, R in splits for c in letters]\n",
        "        return set(deletes + transposes + replaces + inserts)\n",
        "\n",
        "    def _bigramProbability(self, candidate: str, previous: str) -> float:\n",
        "        return (self.bigramFrequency.get((previous, candidate), 0) + 1) / \\\n",
        "               (self.unigramFrequency.get(previous, 0) + len(self.unigramFrequency))\n",
        "\n",
        "    def _suggestCorrection(self, word: str, previous: str) -> str:\n",
        "        candidates = [w for w in self._edits1(word) if w in self.vocabulary]\n",
        "        if not candidates:\n",
        "            return word\n",
        "        candidateProbabilities = {w: self._bigramProbability(w, previous) for w in candidates}\n",
        "        return max(candidateProbabilities, key=candidateProbabilities.get)\n",
        "\n",
        "    def correct(self, text: str) -> str:\n",
        "        tokens = re.findall(r'\\b\\w+\\b', text.lower())\n",
        "        corrected = []\n",
        "        for i, word in enumerate(tokens):\n",
        "            if word in self.vocabulary:\n",
        "                corrected.append(word)\n",
        "            else:\n",
        "                previous = tokens[i - 1] if i > 0 else '<s>'\n",
        "                corrected_word = self._suggestCorrection(word, previous)\n",
        "                corrected.append(corrected_word)\n",
        "        return ' '.join(corrected)\n",
        "\n",
        "\n",
        "with open('/content/corpus.txt', 'r', encoding='utf-8') as f:\n",
        "    corpus = f.read()\n",
        "inputText  = \"The qick bron foxe jump over the lazi dog.\"\n",
        "corrector  = SpellChecker(corpus)\n",
        "correctedText  = corrector.correct(inputText)\n",
        "print(\"Corrected Text:\", correctedText)\n"
      ]
    },
    {
      "cell_type": "code",
      "source": [
        "import re\n",
        "import math\n",
        "from collections import Counter, defaultdict\n",
        "from typing import List, Tuple\n",
        "\n",
        "class SentimentClassifier:\n",
        "    def __init__(self, k: float = 1.0):\n",
        "        self.k = k\n",
        "        self.vocabulary = set()\n",
        "        self.classWordFrequency = defaultdict(Counter)  # Word counts per class\n",
        "        self.classdocFrequency = defaultdict(int)       # Document count per class\n",
        "        self.classTotalWords = defaultdict(int)      # Total words per class\n",
        "        self.totalDocs = 0                            # Total number of documents\n",
        "\n",
        "    def _tokenize(self, text: str) -> List[str]:\n",
        "        return re.findall(r'\\b\\w+\\b', text.lower())\n",
        "\n",
        "    def train(self, data: List[Tuple[str, str]]):\n",
        "        for text, label in data:\n",
        "            words = re.findall(r'\\b\\w+\\b', text.lower())\n",
        "            self.vocabulary.update(words)\n",
        "            self.classWordFrequency[label].update(words)\n",
        "            self.classdocFrequency[label] += 1\n",
        "            self.classTotalWords[label] += len(words)\n",
        "            self.totalDocs += 1\n",
        "\n",
        "\n",
        "    def _wordProbability(self, word: str, label: str) -> float:\n",
        "        wordFrequency = self.classWordFrequency[label][word]\n",
        "        totalWords    = self.classTotalWords[label]\n",
        "        vocabSize    = len(self.vocabulary)\n",
        "        return (wordFrequency + self.k) / (totalWords + self.k * vocabSize)\n",
        "\n",
        "    def _classProbability(self, label: str) -> float:\n",
        "        return self.classdocFrequency[label] / self.totalDocs\n",
        "\n",
        "    def predict(self, text: str) -> str:\n",
        "        words = re.findall(r'\\b\\w+\\b', text.lower())\n",
        "        classProb = {}\n",
        "        for label in self.classWordFrequency.keys():\n",
        "            logProb = math.log(self.classdocFrequency[label] / self.totalDocs)\n",
        "            for word in words:\n",
        "                wordProb = self._wordProbability(word, label)\n",
        "                logProb += math.log(wordProb)\n",
        "            classProb[label] = logProb\n",
        "        return max(classProb, key=classProb.get)\n",
        "\n",
        "    def evaluate(self, test: List[Tuple[str, str]]) -> float:\n",
        "        correct = 0\n",
        "        for text, trueLabel in test:\n",
        "            predLabel = self.predict(text)\n",
        "            if predLabel == trueLabel:\n",
        "                correct += 1\n",
        "        return correct / len(test)\n",
        "\n",
        "train = [\n",
        "    (\"I love this movie, it was fantastic and amazing\", \"positive\"),\n",
        "    (\"The film was dull and boring\", \"negative\"),\n",
        "    (\"What a wonderful experience, I enjoyed every moment\", \"positive\"),\n",
        "    (\"This was the worst movie I've ever seen\", \"negative\"),\n",
        "    (\"I felt so happy and thrilled\", \"positive\"),\n",
        "    (\"Absolutely terrible, would not recommend it\", \"negative\")\n",
        "]\n",
        "\n",
        "test = [\n",
        "    (\"I loved the film\", \"positive\"),\n",
        "    (\"It was boring and I didn’t like it\", \"negative\"),\n",
        "    (\"What an amazing movie\", \"positive\"),\n",
        "    (\"This was not a good experience\", \"negative\")\n",
        "]\n",
        "\n",
        "kValues = [0.25, 0.75, 1]\n",
        "for k in kValues:\n",
        "    classifier = SentimentClassifier(k=k)\n",
        "    classifier.train(train)\n",
        "    print(f\"Accuracy with k = {k}: {accuracy:.2f}\")\n",
        "    for text in test:\n",
        "        print(f\"Text: {text[0]}, Predicted Label: {classifier.predict(text[0])}, True Label: {text[1]}\")\n",
        "    accuracy = classifier.evaluate(test)\n",
        "    print(' ')\n"
      ],
      "metadata": {
        "colab": {
          "base_uri": "https://localhost:8080/"
        },
        "id": "CY2BGyjhGn2r",
        "outputId": "92b452ca-4880-414a-c82a-62733b1b4dea"
      },
      "execution_count": null,
      "outputs": [
        {
          "output_type": "stream",
          "name": "stdout",
          "text": [
            "Accuracy with k = 0.25: 0.50\n",
            "Text: I loved the film, Predicted Label: negative, True Label: positive\n",
            "Text: It was boring and I didn’t like it, Predicted Label: negative, True Label: negative\n",
            "Text: What an amazing movie, Predicted Label: positive, True Label: positive\n",
            "Text: This was not a good experience, Predicted Label: positive, True Label: negative\n",
            " \n",
            "Accuracy with k = 0.75: 0.50\n",
            "Text: I loved the film, Predicted Label: negative, True Label: positive\n",
            "Text: It was boring and I didn’t like it, Predicted Label: negative, True Label: negative\n",
            "Text: What an amazing movie, Predicted Label: positive, True Label: positive\n",
            "Text: This was not a good experience, Predicted Label: positive, True Label: negative\n",
            " \n",
            "Accuracy with k = 1: 0.50\n",
            "Text: I loved the film, Predicted Label: negative, True Label: positive\n",
            "Text: It was boring and I didn’t like it, Predicted Label: negative, True Label: negative\n",
            "Text: What an amazing movie, Predicted Label: positive, True Label: positive\n",
            "Text: This was not a good experience, Predicted Label: positive, True Label: negative\n",
            " \n"
          ]
        }
      ]
    },
    {
      "cell_type": "code",
      "source": [],
      "metadata": {
        "id": "bl1JBe9gPU7b"
      },
      "execution_count": null,
      "outputs": []
    }
  ]
}